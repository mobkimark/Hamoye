{
  "metadata": {
    "kernelspec": {
      "language": "python",
      "display_name": "Python 3",
      "name": "python3"
    },
    "language_info": {
      "name": "python",
      "version": "3.7.12",
      "mimetype": "text/x-python",
      "codemirror_mode": {
        "name": "ipython",
        "version": 3
      },
      "pygments_lexer": "ipython3",
      "nbconvert_exporter": "python",
      "file_extension": ".py"
    },
    "colab": {
      "provenance": [],
      "include_colab_link": true
    }
  },
  "nbformat_minor": 0,
  "nbformat": 4,
  "cells": [
    {
      "cell_type": "markdown",
      "metadata": {
        "id": "view-in-github",
        "colab_type": "text"
      },
      "source": [
        "<a href=\"https://colab.research.google.com/github/mobkimark/Hamoye/blob/main/Amazon.ipynb\" target=\"_parent\"><img src=\"https://colab.research.google.com/assets/colab-badge.svg\" alt=\"Open In Colab\"/></a>"
      ]
    },
    {
      "cell_type": "code",
      "source": [
        "##import the necessary libraries\n",
        "import tensorflow as tf\n",
        "import numpy as np\n",
        "import pandas as pd\n",
        "import matplotlib.pyplot as plt\n",
        "from keras import backend as K\n",
        "from keras.models import Sequential\n",
        "from keras.layers import Input, Dropout, Dense, Flatten, BatchNormalization, Conv2D, MaxPool2D, MaxPooling2D\n",
        "from keras.preprocessing.image import ImageDataGenerator\n",
        "from tensorflow.keras.models import Model\n",
        "from keras.callbacks import EarlyStopping, TensorBoard, ModelCheckpoint\n",
        "from tensorflow.keras.optimizers import Adam, SGD\n",
        "from PIL import Image\n",
        "from sklearn.metrics import fbeta_score\n",
        "from sklearn.model_selection import train_test_split\n",
        "import cv2\n",
        "import os\n",
        "from tqdm import tqdm"
      ],
      "metadata": {
        "execution": {
          "iopub.status.busy": "2023-01-16T20:20:56.107921Z",
          "iopub.execute_input": "2023-01-16T20:20:56.108845Z",
          "iopub.status.idle": "2023-01-16T20:21:02.340164Z",
          "shell.execute_reply.started": "2023-01-16T20:20:56.108745Z",
          "shell.execute_reply": "2023-01-16T20:21:02.339296Z"
        },
        "trusted": true,
        "id": "ZsaXjS5eWAVZ"
      },
      "execution_count": 26,
      "outputs": []
    },
    {
      "cell_type": "code",
      "source": [
        "!ls /content/sample_data"
      ],
      "metadata": {
        "execution": {
          "iopub.status.busy": "2023-01-16T20:21:02.341833Z",
          "iopub.execute_input": "2023-01-16T20:21:02.342445Z",
          "iopub.status.idle": "2023-01-16T20:21:03.301019Z",
          "shell.execute_reply.started": "2023-01-16T20:21:02.342415Z",
          "shell.execute_reply": "2023-01-16T20:21:03.299924Z"
        },
        "trusted": true,
        "colab": {
          "base_uri": "https://localhost:8080/"
        },
        "id": "QwezqMxRWAVf",
        "outputId": "d2b897b6-194f-4603-ded6-eb5cd358b0bd"
      },
      "execution_count": 27,
      "outputs": [
        {
          "output_type": "stream",
          "name": "stdout",
          "text": [
            "anscombe.json\t\t      mnist_test.csv\t     sample_submission_v2.csv\n",
            "california_housing_test.csv   mnist_train_small.csv  test_v2_file_mapping.csv\n",
            "california_housing_train.csv  README.md\t\t     train_v2.csv\n"
          ]
        }
      ]
    },
    {
      "cell_type": "code",
      "source": [
        "path = \"/content/sample_data\"\n",
        "train_path = os.path.join(path, \"train-jpg\")\n",
        "test_path = os.path.join(path, \"test-jpg\")\n",
        "class_path = os.path.join(path, \"/content/sample_data/train_v2.csv\")\n",
        "submission_path = os.path.join(path, \"/content/sample_data/sample_submission_v2.csv\")"
      ],
      "metadata": {
        "execution": {
          "iopub.status.busy": "2023-01-16T20:21:03.302772Z",
          "iopub.execute_input": "2023-01-16T20:21:03.303466Z",
          "iopub.status.idle": "2023-01-16T20:21:03.309728Z",
          "shell.execute_reply.started": "2023-01-16T20:21:03.303427Z",
          "shell.execute_reply": "2023-01-16T20:21:03.308535Z"
        },
        "trusted": true,
        "id": "ZFZ_O7HOWAVi"
      },
      "execution_count": 28,
      "outputs": []
    },
    {
      "cell_type": "code",
      "source": [
        "#reading the labels\n",
        "df = pd.read_csv(class_path)\n",
        "submission_df = pd.read_csv(submission_path)\n",
        "\n",
        "print(df.shape)\n",
        "print(submission_df.shape)"
      ],
      "metadata": {
        "execution": {
          "iopub.status.busy": "2023-01-16T20:21:03.313025Z",
          "iopub.execute_input": "2023-01-16T20:21:03.314015Z",
          "iopub.status.idle": "2023-01-16T20:21:03.448921Z",
          "shell.execute_reply.started": "2023-01-16T20:21:03.313978Z",
          "shell.execute_reply": "2023-01-16T20:21:03.447933Z"
        },
        "trusted": true,
        "colab": {
          "base_uri": "https://localhost:8080/"
        },
        "id": "T26t-WdbWAVj",
        "outputId": "37599a5e-d5fa-46c7-9356-a14ca37ae6ce"
      },
      "execution_count": 29,
      "outputs": [
        {
          "output_type": "stream",
          "name": "stdout",
          "text": [
            "(40479, 2)\n",
            "(61191, 2)\n"
          ]
        }
      ]
    },
    {
      "cell_type": "code",
      "source": [
        "label_list = []\n",
        "for tag_split in df.tags.to_numpy():\n",
        "    labels = tag_split.split(' ')\n",
        "    for label in labels:\n",
        "        if label not in label_list:\n",
        "            label_list.append(label)"
      ],
      "metadata": {
        "execution": {
          "iopub.status.busy": "2023-01-16T20:21:03.451189Z",
          "iopub.execute_input": "2023-01-16T20:21:03.451924Z",
          "iopub.status.idle": "2023-01-16T20:21:03.496512Z",
          "shell.execute_reply.started": "2023-01-16T20:21:03.451882Z",
          "shell.execute_reply": "2023-01-16T20:21:03.495603Z"
        },
        "trusted": true,
        "id": "J4qDGbyfWAVk"
      },
      "execution_count": 30,
      "outputs": []
    },
    {
      "cell_type": "code",
      "source": [
        "print(len(label_list))"
      ],
      "metadata": {
        "execution": {
          "iopub.status.busy": "2023-01-16T20:21:03.497975Z",
          "iopub.execute_input": "2023-01-16T20:21:03.498329Z",
          "iopub.status.idle": "2023-01-16T20:21:03.503656Z",
          "shell.execute_reply.started": "2023-01-16T20:21:03.498295Z",
          "shell.execute_reply": "2023-01-16T20:21:03.502683Z"
        },
        "trusted": true,
        "colab": {
          "base_uri": "https://localhost:8080/"
        },
        "id": "ux2701T6WAVl",
        "outputId": "029f531d-943e-4bab-aeb4-146acb72709d"
      },
      "execution_count": 31,
      "outputs": [
        {
          "output_type": "stream",
          "name": "stdout",
          "text": [
            "17\n"
          ]
        }
      ]
    },
    {
      "cell_type": "code",
      "source": [
        "labels_dict = dict(zip(range(0,17), label_list))\n",
        "labels_dict"
      ],
      "metadata": {
        "execution": {
          "iopub.status.busy": "2023-01-16T20:21:03.504958Z",
          "iopub.execute_input": "2023-01-16T20:21:03.505907Z",
          "iopub.status.idle": "2023-01-16T20:21:03.519472Z",
          "shell.execute_reply.started": "2023-01-16T20:21:03.505865Z",
          "shell.execute_reply": "2023-01-16T20:21:03.518331Z"
        },
        "trusted": true,
        "colab": {
          "base_uri": "https://localhost:8080/"
        },
        "id": "NdwMUWpoWAVm",
        "outputId": "25d58bcb-6dfe-48e1-f330-e7ebb4c1783a"
      },
      "execution_count": 32,
      "outputs": [
        {
          "output_type": "execute_result",
          "data": {
            "text/plain": [
              "{0: 'haze',\n",
              " 1: 'primary',\n",
              " 2: 'agriculture',\n",
              " 3: 'clear',\n",
              " 4: 'water',\n",
              " 5: 'habitation',\n",
              " 6: 'road',\n",
              " 7: 'cultivation',\n",
              " 8: 'slash_burn',\n",
              " 9: 'cloudy',\n",
              " 10: 'partly_cloudy',\n",
              " 11: 'conventional_mine',\n",
              " 12: 'bare_ground',\n",
              " 13: 'artisinal_mine',\n",
              " 14: 'blooming',\n",
              " 15: 'selective_logging',\n",
              " 16: 'blow_down'}"
            ]
          },
          "metadata": {},
          "execution_count": 32
        }
      ]
    },
    {
      "cell_type": "code",
      "source": [
        "# One-hot encode the features\n",
        "for label in label_list:\n",
        "    df[label] = df['tags'].apply(lambda x: 1 if label in x.split() else 0)\n",
        "\n",
        "df.head(3)"
      ],
      "metadata": {
        "execution": {
          "iopub.status.busy": "2023-01-16T20:21:03.521076Z",
          "iopub.execute_input": "2023-01-16T20:21:03.521724Z",
          "iopub.status.idle": "2023-01-16T20:21:03.928998Z",
          "shell.execute_reply.started": "2023-01-16T20:21:03.521682Z",
          "shell.execute_reply": "2023-01-16T20:21:03.927943Z"
        },
        "trusted": true,
        "colab": {
          "base_uri": "https://localhost:8080/",
          "height": 250
        },
        "id": "SjWX2_-qWAVn",
        "outputId": "90a29cf3-3efb-4430-fc76-1a021c815ecf"
      },
      "execution_count": 33,
      "outputs": [
        {
          "output_type": "execute_result",
          "data": {
            "text/plain": [
              "  image_name                             tags  haze  primary  agriculture  \\\n",
              "0    train_0                     haze primary     1        1            0   \n",
              "1    train_1  agriculture clear primary water     0        1            1   \n",
              "2    train_2                    clear primary     0        1            0   \n",
              "\n",
              "   clear  water  habitation  road  cultivation  slash_burn  cloudy  \\\n",
              "0      0      0           0     0            0           0       0   \n",
              "1      1      1           0     0            0           0       0   \n",
              "2      1      0           0     0            0           0       0   \n",
              "\n",
              "   partly_cloudy  conventional_mine  bare_ground  artisinal_mine  blooming  \\\n",
              "0              0                  0            0               0         0   \n",
              "1              0                  0            0               0         0   \n",
              "2              0                  0            0               0         0   \n",
              "\n",
              "   selective_logging  blow_down  \n",
              "0                  0          0  \n",
              "1                  0          0  \n",
              "2                  0          0  "
            ],
            "text/html": [
              "\n",
              "  <div id=\"df-afc1a3ae-36e9-4f3c-b8ef-8564d4792a64\" class=\"colab-df-container\">\n",
              "    <div>\n",
              "<style scoped>\n",
              "    .dataframe tbody tr th:only-of-type {\n",
              "        vertical-align: middle;\n",
              "    }\n",
              "\n",
              "    .dataframe tbody tr th {\n",
              "        vertical-align: top;\n",
              "    }\n",
              "\n",
              "    .dataframe thead th {\n",
              "        text-align: right;\n",
              "    }\n",
              "</style>\n",
              "<table border=\"1\" class=\"dataframe\">\n",
              "  <thead>\n",
              "    <tr style=\"text-align: right;\">\n",
              "      <th></th>\n",
              "      <th>image_name</th>\n",
              "      <th>tags</th>\n",
              "      <th>haze</th>\n",
              "      <th>primary</th>\n",
              "      <th>agriculture</th>\n",
              "      <th>clear</th>\n",
              "      <th>water</th>\n",
              "      <th>habitation</th>\n",
              "      <th>road</th>\n",
              "      <th>cultivation</th>\n",
              "      <th>slash_burn</th>\n",
              "      <th>cloudy</th>\n",
              "      <th>partly_cloudy</th>\n",
              "      <th>conventional_mine</th>\n",
              "      <th>bare_ground</th>\n",
              "      <th>artisinal_mine</th>\n",
              "      <th>blooming</th>\n",
              "      <th>selective_logging</th>\n",
              "      <th>blow_down</th>\n",
              "    </tr>\n",
              "  </thead>\n",
              "  <tbody>\n",
              "    <tr>\n",
              "      <th>0</th>\n",
              "      <td>train_0</td>\n",
              "      <td>haze primary</td>\n",
              "      <td>1</td>\n",
              "      <td>1</td>\n",
              "      <td>0</td>\n",
              "      <td>0</td>\n",
              "      <td>0</td>\n",
              "      <td>0</td>\n",
              "      <td>0</td>\n",
              "      <td>0</td>\n",
              "      <td>0</td>\n",
              "      <td>0</td>\n",
              "      <td>0</td>\n",
              "      <td>0</td>\n",
              "      <td>0</td>\n",
              "      <td>0</td>\n",
              "      <td>0</td>\n",
              "      <td>0</td>\n",
              "      <td>0</td>\n",
              "    </tr>\n",
              "    <tr>\n",
              "      <th>1</th>\n",
              "      <td>train_1</td>\n",
              "      <td>agriculture clear primary water</td>\n",
              "      <td>0</td>\n",
              "      <td>1</td>\n",
              "      <td>1</td>\n",
              "      <td>1</td>\n",
              "      <td>1</td>\n",
              "      <td>0</td>\n",
              "      <td>0</td>\n",
              "      <td>0</td>\n",
              "      <td>0</td>\n",
              "      <td>0</td>\n",
              "      <td>0</td>\n",
              "      <td>0</td>\n",
              "      <td>0</td>\n",
              "      <td>0</td>\n",
              "      <td>0</td>\n",
              "      <td>0</td>\n",
              "      <td>0</td>\n",
              "    </tr>\n",
              "    <tr>\n",
              "      <th>2</th>\n",
              "      <td>train_2</td>\n",
              "      <td>clear primary</td>\n",
              "      <td>0</td>\n",
              "      <td>1</td>\n",
              "      <td>0</td>\n",
              "      <td>1</td>\n",
              "      <td>0</td>\n",
              "      <td>0</td>\n",
              "      <td>0</td>\n",
              "      <td>0</td>\n",
              "      <td>0</td>\n",
              "      <td>0</td>\n",
              "      <td>0</td>\n",
              "      <td>0</td>\n",
              "      <td>0</td>\n",
              "      <td>0</td>\n",
              "      <td>0</td>\n",
              "      <td>0</td>\n",
              "      <td>0</td>\n",
              "    </tr>\n",
              "  </tbody>\n",
              "</table>\n",
              "</div>\n",
              "    <div class=\"colab-df-buttons\">\n",
              "\n",
              "  <div class=\"colab-df-container\">\n",
              "    <button class=\"colab-df-convert\" onclick=\"convertToInteractive('df-afc1a3ae-36e9-4f3c-b8ef-8564d4792a64')\"\n",
              "            title=\"Convert this dataframe to an interactive table.\"\n",
              "            style=\"display:none;\">\n",
              "\n",
              "  <svg xmlns=\"http://www.w3.org/2000/svg\" height=\"24px\" viewBox=\"0 -960 960 960\">\n",
              "    <path d=\"M120-120v-720h720v720H120Zm60-500h600v-160H180v160Zm220 220h160v-160H400v160Zm0 220h160v-160H400v160ZM180-400h160v-160H180v160Zm440 0h160v-160H620v160ZM180-180h160v-160H180v160Zm440 0h160v-160H620v160Z\"/>\n",
              "  </svg>\n",
              "    </button>\n",
              "\n",
              "  <style>\n",
              "    .colab-df-container {\n",
              "      display:flex;\n",
              "      gap: 12px;\n",
              "    }\n",
              "\n",
              "    .colab-df-convert {\n",
              "      background-color: #E8F0FE;\n",
              "      border: none;\n",
              "      border-radius: 50%;\n",
              "      cursor: pointer;\n",
              "      display: none;\n",
              "      fill: #1967D2;\n",
              "      height: 32px;\n",
              "      padding: 0 0 0 0;\n",
              "      width: 32px;\n",
              "    }\n",
              "\n",
              "    .colab-df-convert:hover {\n",
              "      background-color: #E2EBFA;\n",
              "      box-shadow: 0px 1px 2px rgba(60, 64, 67, 0.3), 0px 1px 3px 1px rgba(60, 64, 67, 0.15);\n",
              "      fill: #174EA6;\n",
              "    }\n",
              "\n",
              "    .colab-df-buttons div {\n",
              "      margin-bottom: 4px;\n",
              "    }\n",
              "\n",
              "    [theme=dark] .colab-df-convert {\n",
              "      background-color: #3B4455;\n",
              "      fill: #D2E3FC;\n",
              "    }\n",
              "\n",
              "    [theme=dark] .colab-df-convert:hover {\n",
              "      background-color: #434B5C;\n",
              "      box-shadow: 0px 1px 3px 1px rgba(0, 0, 0, 0.15);\n",
              "      filter: drop-shadow(0px 1px 2px rgba(0, 0, 0, 0.3));\n",
              "      fill: #FFFFFF;\n",
              "    }\n",
              "  </style>\n",
              "\n",
              "    <script>\n",
              "      const buttonEl =\n",
              "        document.querySelector('#df-afc1a3ae-36e9-4f3c-b8ef-8564d4792a64 button.colab-df-convert');\n",
              "      buttonEl.style.display =\n",
              "        google.colab.kernel.accessAllowed ? 'block' : 'none';\n",
              "\n",
              "      async function convertToInteractive(key) {\n",
              "        const element = document.querySelector('#df-afc1a3ae-36e9-4f3c-b8ef-8564d4792a64');\n",
              "        const dataTable =\n",
              "          await google.colab.kernel.invokeFunction('convertToInteractive',\n",
              "                                                    [key], {});\n",
              "        if (!dataTable) return;\n",
              "\n",
              "        const docLinkHtml = 'Like what you see? Visit the ' +\n",
              "          '<a target=\"_blank\" href=https://colab.research.google.com/notebooks/data_table.ipynb>data table notebook</a>'\n",
              "          + ' to learn more about interactive tables.';\n",
              "        element.innerHTML = '';\n",
              "        dataTable['output_type'] = 'display_data';\n",
              "        await google.colab.output.renderOutput(dataTable, element);\n",
              "        const docLink = document.createElement('div');\n",
              "        docLink.innerHTML = docLinkHtml;\n",
              "        element.appendChild(docLink);\n",
              "      }\n",
              "    </script>\n",
              "  </div>\n",
              "\n",
              "\n",
              "<div id=\"df-62ad1e86-c6bb-4a5f-884f-b1a36e80f05d\">\n",
              "  <button class=\"colab-df-quickchart\" onclick=\"quickchart('df-62ad1e86-c6bb-4a5f-884f-b1a36e80f05d')\"\n",
              "            title=\"Suggest charts\"\n",
              "            style=\"display:none;\">\n",
              "\n",
              "<svg xmlns=\"http://www.w3.org/2000/svg\" height=\"24px\"viewBox=\"0 0 24 24\"\n",
              "     width=\"24px\">\n",
              "    <g>\n",
              "        <path d=\"M19 3H5c-1.1 0-2 .9-2 2v14c0 1.1.9 2 2 2h14c1.1 0 2-.9 2-2V5c0-1.1-.9-2-2-2zM9 17H7v-7h2v7zm4 0h-2V7h2v10zm4 0h-2v-4h2v4z\"/>\n",
              "    </g>\n",
              "</svg>\n",
              "  </button>\n",
              "\n",
              "<style>\n",
              "  .colab-df-quickchart {\n",
              "      --bg-color: #E8F0FE;\n",
              "      --fill-color: #1967D2;\n",
              "      --hover-bg-color: #E2EBFA;\n",
              "      --hover-fill-color: #174EA6;\n",
              "      --disabled-fill-color: #AAA;\n",
              "      --disabled-bg-color: #DDD;\n",
              "  }\n",
              "\n",
              "  [theme=dark] .colab-df-quickchart {\n",
              "      --bg-color: #3B4455;\n",
              "      --fill-color: #D2E3FC;\n",
              "      --hover-bg-color: #434B5C;\n",
              "      --hover-fill-color: #FFFFFF;\n",
              "      --disabled-bg-color: #3B4455;\n",
              "      --disabled-fill-color: #666;\n",
              "  }\n",
              "\n",
              "  .colab-df-quickchart {\n",
              "    background-color: var(--bg-color);\n",
              "    border: none;\n",
              "    border-radius: 50%;\n",
              "    cursor: pointer;\n",
              "    display: none;\n",
              "    fill: var(--fill-color);\n",
              "    height: 32px;\n",
              "    padding: 0;\n",
              "    width: 32px;\n",
              "  }\n",
              "\n",
              "  .colab-df-quickchart:hover {\n",
              "    background-color: var(--hover-bg-color);\n",
              "    box-shadow: 0 1px 2px rgba(60, 64, 67, 0.3), 0 1px 3px 1px rgba(60, 64, 67, 0.15);\n",
              "    fill: var(--button-hover-fill-color);\n",
              "  }\n",
              "\n",
              "  .colab-df-quickchart-complete:disabled,\n",
              "  .colab-df-quickchart-complete:disabled:hover {\n",
              "    background-color: var(--disabled-bg-color);\n",
              "    fill: var(--disabled-fill-color);\n",
              "    box-shadow: none;\n",
              "  }\n",
              "\n",
              "  .colab-df-spinner {\n",
              "    border: 2px solid var(--fill-color);\n",
              "    border-color: transparent;\n",
              "    border-bottom-color: var(--fill-color);\n",
              "    animation:\n",
              "      spin 1s steps(1) infinite;\n",
              "  }\n",
              "\n",
              "  @keyframes spin {\n",
              "    0% {\n",
              "      border-color: transparent;\n",
              "      border-bottom-color: var(--fill-color);\n",
              "      border-left-color: var(--fill-color);\n",
              "    }\n",
              "    20% {\n",
              "      border-color: transparent;\n",
              "      border-left-color: var(--fill-color);\n",
              "      border-top-color: var(--fill-color);\n",
              "    }\n",
              "    30% {\n",
              "      border-color: transparent;\n",
              "      border-left-color: var(--fill-color);\n",
              "      border-top-color: var(--fill-color);\n",
              "      border-right-color: var(--fill-color);\n",
              "    }\n",
              "    40% {\n",
              "      border-color: transparent;\n",
              "      border-right-color: var(--fill-color);\n",
              "      border-top-color: var(--fill-color);\n",
              "    }\n",
              "    60% {\n",
              "      border-color: transparent;\n",
              "      border-right-color: var(--fill-color);\n",
              "    }\n",
              "    80% {\n",
              "      border-color: transparent;\n",
              "      border-right-color: var(--fill-color);\n",
              "      border-bottom-color: var(--fill-color);\n",
              "    }\n",
              "    90% {\n",
              "      border-color: transparent;\n",
              "      border-bottom-color: var(--fill-color);\n",
              "    }\n",
              "  }\n",
              "</style>\n",
              "\n",
              "  <script>\n",
              "    async function quickchart(key) {\n",
              "      const quickchartButtonEl =\n",
              "        document.querySelector('#' + key + ' button');\n",
              "      quickchartButtonEl.disabled = true;  // To prevent multiple clicks.\n",
              "      quickchartButtonEl.classList.add('colab-df-spinner');\n",
              "      try {\n",
              "        const charts = await google.colab.kernel.invokeFunction(\n",
              "            'suggestCharts', [key], {});\n",
              "      } catch (error) {\n",
              "        console.error('Error during call to suggestCharts:', error);\n",
              "      }\n",
              "      quickchartButtonEl.classList.remove('colab-df-spinner');\n",
              "      quickchartButtonEl.classList.add('colab-df-quickchart-complete');\n",
              "    }\n",
              "    (() => {\n",
              "      let quickchartButtonEl =\n",
              "        document.querySelector('#df-62ad1e86-c6bb-4a5f-884f-b1a36e80f05d button');\n",
              "      quickchartButtonEl.style.display =\n",
              "        google.colab.kernel.accessAllowed ? 'block' : 'none';\n",
              "    })();\n",
              "  </script>\n",
              "</div>\n",
              "    </div>\n",
              "  </div>\n"
            ]
          },
          "metadata": {},
          "execution_count": 33
        }
      ]
    },
    {
      "cell_type": "code",
      "source": [
        "# plot the labels\n",
        "df[label_list].sum().sort_values(ascending=False)\\\n",
        ".plot(kind='barh', title='Label instance distribution', orientation= 'vertical', figsize=(10, 5), color='blue')\n",
        "plt.show()"
      ],
      "metadata": {
        "execution": {
          "iopub.status.busy": "2023-01-16T20:21:03.930818Z",
          "iopub.execute_input": "2023-01-16T20:21:03.931253Z",
          "iopub.status.idle": "2023-01-16T20:21:04.250014Z",
          "shell.execute_reply.started": "2023-01-16T20:21:03.931214Z",
          "shell.execute_reply": "2023-01-16T20:21:04.249099Z"
        },
        "trusted": true,
        "colab": {
          "base_uri": "https://localhost:8080/",
          "height": 468
        },
        "id": "CID71iYRWAVo",
        "outputId": "12668224-c7e9-4a51-a480-3c6410862aaa"
      },
      "execution_count": 34,
      "outputs": [
        {
          "output_type": "display_data",
          "data": {
            "text/plain": [
              "<Figure size 1000x500 with 1 Axes>"
            ],
            "image/png": "[encoded data removed]"
          },
          "metadata": {}
        }
      ]
    },
    {
      "cell_type": "code",
      "source": [
        "import gc\n",
        "gc.collect()"
      ],
      "metadata": {
        "execution": {
          "iopub.status.busy": "2023-01-16T20:21:04.254315Z",
          "iopub.execute_input": "2023-01-16T20:21:04.255241Z",
          "iopub.status.idle": "2023-01-16T20:21:04.446618Z",
          "shell.execute_reply.started": "2023-01-16T20:21:04.255205Z",
          "shell.execute_reply": "2023-01-16T20:21:04.445274Z"
        },
        "trusted": true,
        "colab": {
          "base_uri": "https://localhost:8080/"
        },
        "id": "T8d_yXpdWAVp",
        "outputId": "9f8039ce-318f-4839-b31c-365f6a983773"
      },
      "execution_count": 35,
      "outputs": [
        {
          "output_type": "execute_result",
          "data": {
            "text/plain": [
              "5506"
            ]
          },
          "metadata": {},
          "execution_count": 35
        }
      ]
    },
    {
      "cell_type": "code",
      "source": [
        "# for the analysis we need columns after tag and image_name\n",
        "df_columns = list(df.columns[2:])\n",
        "# print(df_columns,end='')"
      ],
      "metadata": {
        "execution": {
          "iopub.status.busy": "2023-01-16T20:21:04.449255Z",
          "iopub.execute_input": "2023-01-16T20:21:04.449884Z",
          "iopub.status.idle": "2023-01-16T20:21:04.455388Z",
          "shell.execute_reply.started": "2023-01-16T20:21:04.449846Z",
          "shell.execute_reply": "2023-01-16T20:21:04.454419Z"
        },
        "trusted": true,
        "id": "1s-BW6OpWAVs"
      },
      "execution_count": 36,
      "outputs": []
    },
    {
      "cell_type": "code",
      "source": [
        "# Onehot encode the image name\n",
        "df['image_name'] = df['image_name'].apply(lambda x: f'{x}.jpg')\n",
        "df.head(3)"
      ],
      "metadata": {
        "execution": {
          "iopub.status.busy": "2023-01-16T20:21:04.456894Z",
          "iopub.execute_input": "2023-01-16T20:21:04.457267Z",
          "iopub.status.idle": "2023-01-16T20:21:04.488260Z",
          "shell.execute_reply.started": "2023-01-16T20:21:04.457230Z",
          "shell.execute_reply": "2023-01-16T20:21:04.487341Z"
        },
        "trusted": true,
        "colab": {
          "base_uri": "https://localhost:8080/",
          "height": 250
        },
        "id": "CXScDDW_WAVt",
        "outputId": "76281136-22cf-4a74-e217-4848f5d1004d"
      },
      "execution_count": 37,
      "outputs": [
        {
          "output_type": "execute_result",
          "data": {
            "text/plain": [
              "    image_name                             tags  haze  primary  agriculture  \\\n",
              "0  train_0.jpg                     haze primary     1        1            0   \n",
              "1  train_1.jpg  agriculture clear primary water     0        1            1   \n",
              "2  train_2.jpg                    clear primary     0        1            0   \n",
              "\n",
              "   clear  water  habitation  road  cultivation  slash_burn  cloudy  \\\n",
              "0      0      0           0     0            0           0       0   \n",
              "1      1      1           0     0            0           0       0   \n",
              "2      1      0           0     0            0           0       0   \n",
              "\n",
              "   partly_cloudy  conventional_mine  bare_ground  artisinal_mine  blooming  \\\n",
              "0              0                  0            0               0         0   \n",
              "1              0                  0            0               0         0   \n",
              "2              0                  0            0               0         0   \n",
              "\n",
              "   selective_logging  blow_down  \n",
              "0                  0          0  \n",
              "1                  0          0  \n",
              "2                  0          0  "
            ],
            "text/html": [
              "\n",
              "  <div id=\"df-b767ffc8-be39-4c69-a9c3-131c5008e812\" class=\"colab-df-container\">\n",
              "    <div>\n",
              "<style scoped>\n",
              "    .dataframe tbody tr th:only-of-type {\n",
              "        vertical-align: middle;\n",
              "    }\n",
              "\n",
              "    .dataframe tbody tr th {\n",
              "        vertical-align: top;\n",
              "    }\n",
              "\n",
              "    .dataframe thead th {\n",
              "        text-align: right;\n",
              "    }\n",
              "</style>\n",
              "<table border=\"1\" class=\"dataframe\">\n",
              "  <thead>\n",
              "    <tr style=\"text-align: right;\">\n",
              "      <th></th>\n",
              "      <th>image_name</th>\n",
              "      <th>tags</th>\n",
              "      <th>haze</th>\n",
              "      <th>primary</th>\n",
              "      <th>agriculture</th>\n",
              "      <th>clear</th>\n",
              "      <th>water</th>\n",
              "      <th>habitation</th>\n",
              "      <th>road</th>\n",
              "      <th>cultivation</th>\n",
              "      <th>slash_burn</th>\n",
              "      <th>cloudy</th>\n",
              "      <th>partly_cloudy</th>\n",
              "      <th>conventional_mine</th>\n",
              "      <th>bare_ground</th>\n",
              "      <th>artisinal_mine</th>\n",
              "      <th>blooming</th>\n",
              "      <th>selective_logging</th>\n",
              "      <th>blow_down</th>\n",
              "    </tr>\n",
              "  </thead>\n",
              "  <tbody>\n",
              "    <tr>\n",
              "      <th>0</th>\n",
              "      <td>train_0.jpg</td>\n",
              "      <td>haze primary</td>\n",
              "      <td>1</td>\n",
              "      <td>1</td>\n",
              "      <td>0</td>\n",
              "      <td>0</td>\n",
              "      <td>0</td>\n",
              "      <td>0</td>\n",
              "      <td>0</td>\n",
              "      <td>0</td>\n",
              "      <td>0</td>\n",
              "      <td>0</td>\n",
              "      <td>0</td>\n",
              "      <td>0</td>\n",
              "      <td>0</td>\n",
              "      <td>0</td>\n",
              "      <td>0</td>\n",
              "      <td>0</td>\n",
              "      <td>0</td>\n",
              "    </tr>\n",
              "    <tr>\n",
              "      <th>1</th>\n",
              "      <td>train_1.jpg</td>\n",
              "      <td>agriculture clear primary water</td>\n",
              "      <td>0</td>\n",
              "      <td>1</td>\n",
              "      <td>1</td>\n",
              "      <td>1</td>\n",
              "      <td>1</td>\n",
              "      <td>0</td>\n",
              "      <td>0</td>\n",
              "      <td>0</td>\n",
              "      <td>0</td>\n",
              "      <td>0</td>\n",
              "      <td>0</td>\n",
              "      <td>0</td>\n",
              "      <td>0</td>\n",
              "      <td>0</td>\n",
              "      <td>0</td>\n",
              "      <td>0</td>\n",
              "      <td>0</td>\n",
              "    </tr>\n",
              "    <tr>\n",
              "      <th>2</th>\n",
              "      <td>train_2.jpg</td>\n",
              "      <td>clear primary</td>\n",
              "      <td>0</td>\n",
              "      <td>1</td>\n",
              "      <td>0</td>\n",
              "      <td>1</td>\n",
              "      <td>0</td>\n",
              "      <td>0</td>\n",
              "      <td>0</td>\n",
              "      <td>0</td>\n",
              "      <td>0</td>\n",
              "      <td>0</td>\n",
              "      <td>0</td>\n",
              "      <td>0</td>\n",
              "      <td>0</td>\n",
              "      <td>0</td>\n",
              "      <td>0</td>\n",
              "      <td>0</td>\n",
              "      <td>0</td>\n",
              "    </tr>\n",
              "  </tbody>\n",
              "</table>\n",
              "</div>\n",
              "    <div class=\"colab-df-buttons\">\n",
              "\n",
              "  <div class=\"colab-df-container\">\n",
              "    <button class=\"colab-df-convert\" onclick=\"convertToInteractive('df-b767ffc8-be39-4c69-a9c3-131c5008e812')\"\n",
              "            title=\"Convert this dataframe to an interactive table.\"\n",
              "            style=\"display:none;\">\n",
              "\n",
              "  <svg xmlns=\"http://www.w3.org/2000/svg\" height=\"24px\" viewBox=\"0 -960 960 960\">\n",
              "    <path d=\"M120-120v-720h720v720H120Zm60-500h600v-160H180v160Zm220 220h160v-160H400v160Zm0 220h160v-160H400v160ZM180-400h160v-160H180v160Zm440 0h160v-160H620v160ZM180-180h160v-160H180v160Zm440 0h160v-160H620v160Z\"/>\n",
              "  </svg>\n",
              "    </button>\n",
              "\n",
              "  <style>\n",
              "    .colab-df-container {\n",
              "      display:flex;\n",
              "      gap: 12px;\n",
              "    }\n",
              "\n",
              "    .colab-df-convert {\n",
              "      background-color: #E8F0FE;\n",
              "      border: none;\n",
              "      border-radius: 50%;\n",
              "      cursor: pointer;\n",
              "      display: none;\n",
              "      fill: #1967D2;\n",
              "      height: 32px;\n",
              "      padding: 0 0 0 0;\n",
              "      width: 32px;\n",
              "    }\n",
              "\n",
              "    .colab-df-convert:hover {\n",
              "      background-color: #E2EBFA;\n",
              "      box-shadow: 0px 1px 2px rgba(60, 64, 67, 0.3), 0px 1px 3px 1px rgba(60, 64, 67, 0.15);\n",
              "      fill: #174EA6;\n",
              "    }\n",
              "\n",
              "    .colab-df-buttons div {\n",
              "      margin-bottom: 4px;\n",
              "    }\n",
              "\n",
              "    [theme=dark] .colab-df-convert {\n",
              "      background-color: #3B4455;\n",
              "      fill: #D2E3FC;\n",
              "    }\n",
              "\n",
              "    [theme=dark] .colab-df-convert:hover {\n",
              "      background-color: #434B5C;\n",
              "      box-shadow: 0px 1px 3px 1px rgba(0, 0, 0, 0.15);\n",
              "      filter: drop-shadow(0px 1px 2px rgba(0, 0, 0, 0.3));\n",
              "      fill: #FFFFFF;\n",
              "    }\n",
              "  </style>\n",
              "\n",
              "    <script>\n",
              "      const buttonEl =\n",
              "        document.querySelector('#df-b767ffc8-be39-4c69-a9c3-131c5008e812 button.colab-df-convert');\n",
              "      buttonEl.style.display =\n",
              "        google.colab.kernel.accessAllowed ? 'block' : 'none';\n",
              "\n",
              "      async function convertToInteractive(key) {\n",
              "        const element = document.querySelector('#df-b767ffc8-be39-4c69-a9c3-131c5008e812');\n",
              "        const dataTable =\n",
              "          await google.colab.kernel.invokeFunction('convertToInteractive',\n",
              "                                                    [key], {});\n",
              "        if (!dataTable) return;\n",
              "\n",
              "        const docLinkHtml = 'Like what you see? Visit the ' +\n",
              "          '<a target=\"_blank\" href=https://colab.research.google.com/notebooks/data_table.ipynb>data table notebook</a>'\n",
              "          + ' to learn more about interactive tables.';\n",
              "        element.innerHTML = '';\n",
              "        dataTable['output_type'] = 'display_data';\n",
              "        await google.colab.output.renderOutput(dataTable, element);\n",
              "        const docLink = document.createElement('div');\n",
              "        docLink.innerHTML = docLinkHtml;\n",
              "        element.appendChild(docLink);\n",
              "      }\n",
              "    </script>\n",
              "  </div>\n",
              "\n",
              "\n",
              "<div id=\"df-79688c58-8694-496d-be0a-279133495f42\">\n",
              "  <button class=\"colab-df-quickchart\" onclick=\"quickchart('df-79688c58-8694-496d-be0a-279133495f42')\"\n",
              "            title=\"Suggest charts\"\n",
              "            style=\"display:none;\">\n",
              "\n",
              "<svg xmlns=\"http://www.w3.org/2000/svg\" height=\"24px\"viewBox=\"0 0 24 24\"\n",
              "     width=\"24px\">\n",
              "    <g>\n",
              "        <path d=\"M19 3H5c-1.1 0-2 .9-2 2v14c0 1.1.9 2 2 2h14c1.1 0 2-.9 2-2V5c0-1.1-.9-2-2-2zM9 17H7v-7h2v7zm4 0h-2V7h2v10zm4 0h-2v-4h2v4z\"/>\n",
              "    </g>\n",
              "</svg>\n",
              "  </button>\n",
              "\n",
              "<style>\n",
              "  .colab-df-quickchart {\n",
              "      --bg-color: #E8F0FE;\n",
              "      --fill-color: #1967D2;\n",
              "      --hover-bg-color: #E2EBFA;\n",
              "      --hover-fill-color: #174EA6;\n",
              "      --disabled-fill-color: #AAA;\n",
              "      --disabled-bg-color: #DDD;\n",
              "  }\n",
              "\n",
              "  [theme=dark] .colab-df-quickchart {\n",
              "      --bg-color: #3B4455;\n",
              "      --fill-color: #D2E3FC;\n",
              "      --hover-bg-color: #434B5C;\n",
              "      --hover-fill-color: #FFFFFF;\n",
              "      --disabled-bg-color: #3B4455;\n",
              "      --disabled-fill-color: #666;\n",
              "  }\n",
              "\n",
              "  .colab-df-quickchart {\n",
              "    background-color: var(--bg-color);\n",
              "    border: none;\n",
              "    border-radius: 50%;\n",
              "    cursor: pointer;\n",
              "    display: none;\n",
              "    fill: var(--fill-color);\n",
              "    height: 32px;\n",
              "    padding: 0;\n",
              "    width: 32px;\n",
              "  }\n",
              "\n",
              "  .colab-df-quickchart:hover {\n",
              "    background-color: var(--hover-bg-color);\n",
              "    box-shadow: 0 1px 2px rgba(60, 64, 67, 0.3), 0 1px 3px 1px rgba(60, 64, 67, 0.15);\n",
              "    fill: var(--button-hover-fill-color);\n",
              "  }\n",
              "\n",
              "  .colab-df-quickchart-complete:disabled,\n",
              "  .colab-df-quickchart-complete:disabled:hover {\n",
              "    background-color: var(--disabled-bg-color);\n",
              "    fill: var(--disabled-fill-color);\n",
              "    box-shadow: none;\n",
              "  }\n",
              "\n",
              "  .colab-df-spinner {\n",
              "    border: 2px solid var(--fill-color);\n",
              "    border-color: transparent;\n",
              "    border-bottom-color: var(--fill-color);\n",
              "    animation:\n",
              "      spin 1s steps(1) infinite;\n",
              "  }\n",
              "\n",
              "  @keyframes spin {\n",
              "    0% {\n",
              "      border-color: transparent;\n",
              "      border-bottom-color: var(--fill-color);\n",
              "      border-left-color: var(--fill-color);\n",
              "    }\n",
              "    20% {\n",
              "      border-color: transparent;\n",
              "      border-left-color: var(--fill-color);\n",
              "      border-top-color: var(--fill-color);\n",
              "    }\n",
              "    30% {\n",
              "      border-color: transparent;\n",
              "      border-left-color: var(--fill-color);\n",
              "      border-top-color: var(--fill-color);\n",
              "      border-right-color: var(--fill-color);\n",
              "    }\n",
              "    40% {\n",
              "      border-color: transparent;\n",
              "      border-right-color: var(--fill-color);\n",
              "      border-top-color: var(--fill-color);\n",
              "    }\n",
              "    60% {\n",
              "      border-color: transparent;\n",
              "      border-right-color: var(--fill-color);\n",
              "    }\n",
              "    80% {\n",
              "      border-color: transparent;\n",
              "      border-right-color: var(--fill-color);\n",
              "      border-bottom-color: var(--fill-color);\n",
              "    }\n",
              "    90% {\n",
              "      border-color: transparent;\n",
              "      border-bottom-color: var(--fill-color);\n",
              "    }\n",
              "  }\n",
              "</style>\n",
              "\n",
              "  <script>\n",
              "    async function quickchart(key) {\n",
              "      const quickchartButtonEl =\n",
              "        document.querySelector('#' + key + ' button');\n",
              "      quickchartButtonEl.disabled = true;  // To prevent multiple clicks.\n",
              "      quickchartButtonEl.classList.add('colab-df-spinner');\n",
              "      try {\n",
              "        const charts = await google.colab.kernel.invokeFunction(\n",
              "            'suggestCharts', [key], {});\n",
              "      } catch (error) {\n",
              "        console.error('Error during call to suggestCharts:', error);\n",
              "      }\n",
              "      quickchartButtonEl.classList.remove('colab-df-spinner');\n",
              "      quickchartButtonEl.classList.add('colab-df-quickchart-complete');\n",
              "    }\n",
              "    (() => {\n",
              "      let quickchartButtonEl =\n",
              "        document.querySelector('#df-79688c58-8694-496d-be0a-279133495f42 button');\n",
              "      quickchartButtonEl.style.display =\n",
              "        google.colab.kernel.accessAllowed ? 'block' : 'none';\n",
              "    })();\n",
              "  </script>\n",
              "</div>\n",
              "    </div>\n",
              "  </div>\n"
            ]
          },
          "metadata": {},
          "execution_count": 37
        }
      ]
    },
    {
      "cell_type": "code",
      "source": [
        "import gc\n",
        "gc.collect()"
      ],
      "metadata": {
        "execution": {
          "iopub.status.busy": "2023-01-16T20:21:04.489710Z",
          "iopub.execute_input": "2023-01-16T20:21:04.490039Z",
          "iopub.status.idle": "2023-01-16T20:21:04.638546Z",
          "shell.execute_reply.started": "2023-01-16T20:21:04.490004Z",
          "shell.execute_reply": "2023-01-16T20:21:04.637494Z"
        },
        "trusted": true,
        "colab": {
          "base_uri": "https://localhost:8080/"
        },
        "id": "0OzKm1-iWAVv",
        "outputId": "bb7b31ae-0684-4ddf-a57c-449e6d7cad6e"
      },
      "execution_count": 38,
      "outputs": [
        {
          "output_type": "execute_result",
          "data": {
            "text/plain": [
              "0"
            ]
          },
          "metadata": {},
          "execution_count": 38
        }
      ]
    },
    {
      "cell_type": "code",
      "source": [
        "def f_beta_score(y_true, y_pred, beta = 2, epsilon = 1e-4):\n",
        "\n",
        "    beta_squared = beta**2\n",
        "\n",
        "    y_true = tf.cast(y_true, tf.float32)\n",
        "    y_pred = tf.cast(tf.greater(tf.cast(y_pred, tf.float32), tf.constant(0.5)), tf.float32)\n",
        "\n",
        "    tp = tf.reduce_sum(y_true * y_pred, axis = 1)\n",
        "    fp = tf.reduce_sum(y_pred, axis = 1) - tp\n",
        "    fn = tf.reduce_sum(y_true, axis = 1) - tp\n",
        "\n",
        "    precision = tp/(tp +fp +epsilon)\n",
        "    recall = tp/(tp + fn + epsilon)\n",
        "\n",
        "    return (1 + beta_squared) * precision * recall / (beta_squared * precision + recall + epsilon)\n"
      ],
      "metadata": {
        "execution": {
          "iopub.status.busy": "2023-01-16T20:21:04.640161Z",
          "iopub.execute_input": "2023-01-16T20:21:04.641143Z",
          "iopub.status.idle": "2023-01-16T20:21:04.652496Z",
          "shell.execute_reply.started": "2023-01-16T20:21:04.641049Z",
          "shell.execute_reply": "2023-01-16T20:21:04.651445Z"
        },
        "trusted": true,
        "id": "AwDtfNEJWAVw"
      },
      "execution_count": 39,
      "outputs": []
    },
    {
      "cell_type": "code",
      "source": [
        "def accuracy_score(y_true, y_pred, epsilon = 1e-4):\n",
        "\n",
        "    y_true = tf.cast(y_true, tf.float32)\n",
        "    y_pred = tf.cast(tf.greater(tf.cast(y_pred, tf.float32), tf.constant(0.5)), tf.float32)\n",
        "\n",
        "    tp = tf.reduce_sum(y_true * y_pred, axis = 1)\n",
        "    fp = tf.reduce_sum(y_pred, axis = 1) - tp\n",
        "    fn = tf.reduce_sum(y_true, axis = 1) - tp\n",
        "\n",
        "    y_true = tf.cast(y_true, tf.bool)\n",
        "    y_pred = tf.cast(y_pred, tf.bool)\n",
        "\n",
        "    tn = tf.reduce_sum(tf.cast(tf.logical_not(y_true), tf.float32) * tf.cast(tf.logical_not(y_pred), tf.float32),\n",
        "                       axis = 1)\n",
        "    return (tp + tn)/(tp + tn + fp + fn + epsilon)"
      ],
      "metadata": {
        "execution": {
          "iopub.status.busy": "2023-01-16T20:21:04.653783Z",
          "iopub.execute_input": "2023-01-16T20:21:04.654291Z",
          "iopub.status.idle": "2023-01-16T20:21:04.664690Z",
          "shell.execute_reply.started": "2023-01-16T20:21:04.654224Z",
          "shell.execute_reply": "2023-01-16T20:21:04.663759Z"
        },
        "trusted": true,
        "id": "zq1uFNZiWAVx"
      },
      "execution_count": 40,
      "outputs": []
    },
    {
      "cell_type": "code",
      "source": [
        "import gc\n",
        "gc.collect()"
      ],
      "metadata": {
        "execution": {
          "iopub.status.busy": "2023-01-16T20:21:04.665947Z",
          "iopub.execute_input": "2023-01-16T20:21:04.666363Z",
          "iopub.status.idle": "2023-01-16T20:21:04.808712Z",
          "shell.execute_reply.started": "2023-01-16T20:21:04.666328Z",
          "shell.execute_reply": "2023-01-16T20:21:04.807039Z"
        },
        "trusted": true,
        "colab": {
          "base_uri": "https://localhost:8080/"
        },
        "id": "tjhdtdiEWAVy",
        "outputId": "cee94399-a10a-4db1-97b7-7238bd766859"
      },
      "execution_count": 41,
      "outputs": [
        {
          "output_type": "execute_result",
          "data": {
            "text/plain": [
              "0"
            ]
          },
          "metadata": {},
          "execution_count": 41
        }
      ]
    },
    {
      "cell_type": "code",
      "source": [
        "##Split training data to training and validation sets\n",
        "train_datagen = ImageDataGenerator(rescale = 1./255, validation_split = 0.2)\n",
        "\n",
        "# train_set contains 80 percent of images\n",
        "train_gen = train_datagen.flow_from_dataframe(dataframe=df,\n",
        "                                              directory = train_path,\n",
        "                                              x_col=\"image_name\",\n",
        "                                              y_col=df_columns,\n",
        "                                              subset=\"training\",\n",
        "                                              batch_size=128,\n",
        "                                              seed=42,\n",
        "                                              shuffle = True,\n",
        "                                              class_mode=\"raw\",\n",
        "                                              target_size=(128,128))\n",
        "\n",
        "\n",
        "# val_set contains 20 percent of images\n",
        "val_gen = train_datagen.flow_from_dataframe(dataframe=df,\n",
        "                                            directory = train_path,\n",
        "                                            x_col=\"image_name\",\n",
        "                                            y_col=df_columns,\n",
        "                                            subset=\"validation\",\n",
        "                                            batch_size=128,\n",
        "                                            seed=42,\n",
        "                                            shuffle = True,\n",
        "                                            class_mode=\"raw\",\n",
        "                                            target_size=(128,128))"
      ],
      "metadata": {
        "execution": {
          "iopub.status.busy": "2023-01-16T20:21:04.810391Z",
          "iopub.execute_input": "2023-01-16T20:21:04.810792Z",
          "iopub.status.idle": "2023-01-16T20:22:02.356094Z",
          "shell.execute_reply.started": "2023-01-16T20:21:04.810756Z",
          "shell.execute_reply": "2023-01-16T20:22:02.354942Z"
        },
        "trusted": true,
        "colab": {
          "base_uri": "https://localhost:8080/"
        },
        "id": "QTsreoMtWAV0",
        "outputId": "3e352c65-555d-4eba-95fe-dbb7aa2e3e05"
      },
      "execution_count": 42,
      "outputs": [
        {
          "output_type": "stream",
          "name": "stdout",
          "text": [
            "Found 0 validated image filenames.\n",
            "Found 0 validated image filenames.\n"
          ]
        },
        {
          "output_type": "stream",
          "name": "stderr",
          "text": [
            "/usr/local/lib/python3.10/dist-packages/keras/src/preprocessing/image.py:1137: UserWarning: Found 40479 invalid image filename(s) in x_col=\"image_name\". These filename(s) will be ignored.\n",
            "  warnings.warn(\n",
            "/usr/local/lib/python3.10/dist-packages/keras/src/preprocessing/image.py:1137: UserWarning: Found 40479 invalid image filename(s) in x_col=\"image_name\". These filename(s) will be ignored.\n",
            "  warnings.warn(\n"
          ]
        }
      ]
    },
    {
      "cell_type": "code",
      "source": [
        "##Building a sequential feed forward network in keras\n",
        "def model_building():\n",
        "    model = Sequential()\n",
        "    model.add(BatchNormalization(input_shape=(128, 128, 3)))\n",
        "    model.add(Conv2D(32, kernel_size=(3, 3), padding='same', activation='relu'))\n",
        "    model.add(Conv2D(32, kernel_size=(3, 3), activation='relu'))\n",
        "    model.add(MaxPooling2D(pool_size=(2, 2)))\n",
        "    model.add(Dropout(0.2))\n",
        "\n",
        "    model.add(Conv2D(64, kernel_size=(3, 3), padding='same', activation='relu'))\n",
        "    model.add(Conv2D(64, kernel_size=(3, 3), activation='relu'))\n",
        "    model.add(MaxPooling2D(pool_size=(2, 2)))\n",
        "    model.add(Dropout(0.2))\n",
        "\n",
        "    model.add(Conv2D(128, kernel_size=(3, 3), padding='same', activation='relu'))\n",
        "    model.add(Conv2D(128, kernel_size=(3, 3), activation='relu'))\n",
        "    model.add(MaxPooling2D(pool_size=(2, 2)))\n",
        "    model.add(Dropout(0.2))\n",
        "\n",
        "    model.add(Conv2D(256, kernel_size=(3, 3), padding='same', activation='relu'))\n",
        "    model.add(Conv2D(256, kernel_size=(3, 3), activation='relu'))\n",
        "    model.add(MaxPooling2D(pool_size=(2, 2)))\n",
        "    model.add(Dropout(0.2))\n",
        "\n",
        "    model.add(Flatten())\n",
        "    model.add(Dense(512, activation='relu'))\n",
        "    model.add(Dropout(0.5))\n",
        "    model.add(Dense(17, activation='sigmoid'))\n",
        "\n",
        "    return model\n",
        ""
      ],
      "metadata": {
        "execution": {
          "iopub.status.busy": "2023-01-16T20:22:02.357662Z",
          "iopub.execute_input": "2023-01-16T20:22:02.358015Z",
          "iopub.status.idle": "2023-01-16T20:22:02.370043Z",
          "shell.execute_reply.started": "2023-01-16T20:22:02.357979Z",
          "shell.execute_reply": "2023-01-16T20:22:02.369130Z"
        },
        "trusted": true,
        "id": "WpB-ZiEKWAV2"
      },
      "execution_count": 43,
      "outputs": []
    },
    {
      "cell_type": "code",
      "source": [
        "model = model_building()\n",
        "model.summary()"
      ],
      "metadata": {
        "execution": {
          "iopub.status.busy": "2023-01-16T20:22:02.371540Z",
          "iopub.execute_input": "2023-01-16T20:22:02.372222Z",
          "iopub.status.idle": "2023-01-16T20:22:05.302441Z",
          "shell.execute_reply.started": "2023-01-16T20:22:02.372180Z",
          "shell.execute_reply": "2023-01-16T20:22:05.300752Z"
        },
        "trusted": true,
        "colab": {
          "base_uri": "https://localhost:8080/"
        },
        "id": "7yWOpcqJWAV3",
        "outputId": "10f31a41-f37b-49a8-9765-dd0e31cc86b6"
      },
      "execution_count": 44,
      "outputs": [
        {
          "output_type": "stream",
          "name": "stdout",
          "text": [
            "Model: \"sequential\"\n",
            "_________________________________________________________________\n",
            " Layer (type)                Output Shape              Param #   \n",
            "=================================================================\n",
            " batch_normalization (Batch  (None, 128, 128, 3)       12        \n",
            " Normalization)                                                  \n",
            "                                                                 \n",
            " conv2d (Conv2D)             (None, 128, 128, 32)      896       \n",
            "                                                                 \n",
            " conv2d_1 (Conv2D)           (None, 126, 126, 32)      9248      \n",
            "                                                                 \n",
            " max_pooling2d (MaxPooling2  (None, 63, 63, 32)        0         \n",
            " D)                                                              \n",
            "                                                                 \n",
            " dropout (Dropout)           (None, 63, 63, 32)        0         \n",
            "                                                                 \n",
            " conv2d_2 (Conv2D)           (None, 63, 63, 64)        18496     \n",
            "                                                                 \n",
            " conv2d_3 (Conv2D)           (None, 61, 61, 64)        36928     \n",
            "                                                                 \n",
            " max_pooling2d_1 (MaxPoolin  (None, 30, 30, 64)        0         \n",
            " g2D)                                                            \n",
            "                                                                 \n",
            " dropout_1 (Dropout)         (None, 30, 30, 64)        0         \n",
            "                                                                 \n",
            " conv2d_4 (Conv2D)           (None, 30, 30, 128)       73856     \n",
            "                                                                 \n",
            " conv2d_5 (Conv2D)           (None, 28, 28, 128)       147584    \n",
            "                                                                 \n",
            " max_pooling2d_2 (MaxPoolin  (None, 14, 14, 128)       0         \n",
            " g2D)                                                            \n",
            "                                                                 \n",
            " dropout_2 (Dropout)         (None, 14, 14, 128)       0         \n",
            "                                                                 \n",
            " conv2d_6 (Conv2D)           (None, 14, 14, 256)       295168    \n",
            "                                                                 \n",
            " conv2d_7 (Conv2D)           (None, 12, 12, 256)       590080    \n",
            "                                                                 \n",
            " max_pooling2d_3 (MaxPoolin  (None, 6, 6, 256)         0         \n",
            " g2D)                                                            \n",
            "                                                                 \n",
            " dropout_3 (Dropout)         (None, 6, 6, 256)         0         \n",
            "                                                                 \n",
            " flatten (Flatten)           (None, 9216)              0         \n",
            "                                                                 \n",
            " dense (Dense)               (None, 512)               4719104   \n",
            "                                                                 \n",
            " dropout_4 (Dropout)         (None, 512)               0         \n",
            "                                                                 \n",
            " dense_1 (Dense)             (None, 17)                8721      \n",
            "                                                                 \n",
            "=================================================================\n",
            "Total params: 5900093 (22.51 MB)\n",
            "Trainable params: 5900087 (22.51 MB)\n",
            "Non-trainable params: 6 (24.00 Byte)\n",
            "_________________________________________________________________\n"
          ]
        }
      ]
    },
    {
      "cell_type": "code",
      "source": [
        "model.compile(loss='binary_crossentropy',\n",
        "              optimizer='adam',\n",
        "              metrics=[f_beta_score, accuracy_score])\n",
        "\n",
        "# Save the callback\n",
        "callback = EarlyStopping(\n",
        "    monitor=\"val_loss\",\n",
        "    patience=2,\n",
        "    verbose=0,\n",
        "    baseline=None,\n",
        "    restore_best_weights=True,\n",
        ")"
      ],
      "metadata": {
        "execution": {
          "iopub.status.busy": "2023-01-16T20:22:05.303994Z",
          "iopub.execute_input": "2023-01-16T20:22:05.304370Z",
          "iopub.status.idle": "2023-01-16T20:22:05.319259Z",
          "shell.execute_reply.started": "2023-01-16T20:22:05.304324Z",
          "shell.execute_reply": "2023-01-16T20:22:05.318144Z"
        },
        "trusted": true,
        "id": "i9TUqDLnWAV4"
      },
      "execution_count": 45,
      "outputs": []
    },
    {
      "cell_type": "code",
      "source": [
        "# Batchsize for training and validation set\n",
        "train_steps = train_gen.n // train_gen.batch_size\n",
        "val_steps = val_gen.n // train_gen.batch_size"
      ],
      "metadata": {
        "execution": {
          "iopub.status.busy": "2023-01-16T20:22:05.320969Z",
          "iopub.execute_input": "2023-01-16T20:22:05.321345Z",
          "iopub.status.idle": "2023-01-16T20:22:05.328551Z",
          "shell.execute_reply.started": "2023-01-16T20:22:05.321310Z",
          "shell.execute_reply": "2023-01-16T20:22:05.327615Z"
        },
        "trusted": true,
        "id": "h-PsA0cPWAV5"
      },
      "execution_count": 46,
      "outputs": []
    },
    {
      "cell_type": "code",
      "source": [
        "import gc\n",
        "gc.collect()"
      ],
      "metadata": {
        "execution": {
          "iopub.status.busy": "2023-01-16T20:22:05.330966Z",
          "iopub.execute_input": "2023-01-16T20:22:05.331768Z",
          "iopub.status.idle": "2023-01-16T20:22:05.497507Z",
          "shell.execute_reply.started": "2023-01-16T20:22:05.331728Z",
          "shell.execute_reply": "2023-01-16T20:22:05.496407Z"
        },
        "trusted": true,
        "colab": {
          "base_uri": "https://localhost:8080/"
        },
        "id": "EFXZbkttWAV6",
        "outputId": "72d82d91-c3e2-4f73-b191-6e55b86904a7"
      },
      "execution_count": 47,
      "outputs": [
        {
          "output_type": "execute_result",
          "data": {
            "text/plain": [
              "162"
            ]
          },
          "metadata": {},
          "execution_count": 47
        }
      ]
    },
    {
      "cell_type": "code",
      "source": [
        "history = model.fit(x=train_gen,\n",
        "                    steps_per_epoch=train_steps,\n",
        "                    validation_data=val_gen,\n",
        "                    validation_steps=val_steps,\n",
        "                    epochs=10,\n",
        "                    callbacks=[callback])"
      ],
      "metadata": {
        "execution": {
          "iopub.status.busy": "2023-01-16T20:26:38.712246Z",
          "iopub.execute_input": "2023-01-16T20:26:38.712608Z",
          "iopub.status.idle": "2023-01-16T20:45:22.674337Z",
          "shell.execute_reply.started": "2023-01-16T20:26:38.712578Z",
          "shell.execute_reply": "2023-01-16T20:45:22.673310Z"
        },
        "trusted": true,
        "colab": {
          "base_uri": "https://localhost:8080/",
          "height": 428
        },
        "id": "tOlRZJVVWAWA",
        "outputId": "7ba2ebb3-9557-4b72-b71d-fb6e901d62e8"
      },
      "execution_count": 48,
      "outputs": [
        {
          "output_type": "error",
          "ename": "ValueError",
          "evalue": "ignored",
          "traceback": [
            "\u001b[0;31m---------------------------------------------------------------------------\u001b[0m",
            "\u001b[0;31mValueError\u001b[0m                                Traceback (most recent call last)",
            "\u001b[0;32m<ipython-input-48-541b2a0018cb>\u001b[0m in \u001b[0;36m<cell line: 1>\u001b[0;34m()\u001b[0m\n\u001b[0;32m----> 1\u001b[0;31m history = model.fit(x=train_gen,\n\u001b[0m\u001b[1;32m      2\u001b[0m                     \u001b[0msteps_per_epoch\u001b[0m\u001b[0;34m=\u001b[0m\u001b[0mtrain_steps\u001b[0m\u001b[0;34m,\u001b[0m\u001b[0;34m\u001b[0m\u001b[0;34m\u001b[0m\u001b[0m\n\u001b[1;32m      3\u001b[0m                     \u001b[0mvalidation_data\u001b[0m\u001b[0;34m=\u001b[0m\u001b[0mval_gen\u001b[0m\u001b[0;34m,\u001b[0m\u001b[0;34m\u001b[0m\u001b[0;34m\u001b[0m\u001b[0m\n\u001b[1;32m      4\u001b[0m                     \u001b[0mvalidation_steps\u001b[0m\u001b[0;34m=\u001b[0m\u001b[0mval_steps\u001b[0m\u001b[0;34m,\u001b[0m\u001b[0;34m\u001b[0m\u001b[0;34m\u001b[0m\u001b[0m\n\u001b[1;32m      5\u001b[0m                     \u001b[0mepochs\u001b[0m\u001b[0;34m=\u001b[0m\u001b[0;36m10\u001b[0m\u001b[0;34m,\u001b[0m\u001b[0;34m\u001b[0m\u001b[0;34m\u001b[0m\u001b[0m\n",
            "\u001b[0;32m/usr/local/lib/python3.10/dist-packages/keras/src/utils/traceback_utils.py\u001b[0m in \u001b[0;36merror_handler\u001b[0;34m(*args, **kwargs)\u001b[0m\n\u001b[1;32m     68\u001b[0m             \u001b[0;31m# To get the full stack trace, call:\u001b[0m\u001b[0;34m\u001b[0m\u001b[0;34m\u001b[0m\u001b[0m\n\u001b[1;32m     69\u001b[0m             \u001b[0;31m# `tf.debugging.disable_traceback_filtering()`\u001b[0m\u001b[0;34m\u001b[0m\u001b[0;34m\u001b[0m\u001b[0m\n\u001b[0;32m---> 70\u001b[0;31m             \u001b[0;32mraise\u001b[0m \u001b[0me\u001b[0m\u001b[0;34m.\u001b[0m\u001b[0mwith_traceback\u001b[0m\u001b[0;34m(\u001b[0m\u001b[0mfiltered_tb\u001b[0m\u001b[0;34m)\u001b[0m \u001b[0;32mfrom\u001b[0m \u001b[0;32mNone\u001b[0m\u001b[0;34m\u001b[0m\u001b[0;34m\u001b[0m\u001b[0m\n\u001b[0m\u001b[1;32m     71\u001b[0m         \u001b[0;32mfinally\u001b[0m\u001b[0;34m:\u001b[0m\u001b[0;34m\u001b[0m\u001b[0;34m\u001b[0m\u001b[0m\n\u001b[1;32m     72\u001b[0m             \u001b[0;32mdel\u001b[0m \u001b[0mfiltered_tb\u001b[0m\u001b[0;34m\u001b[0m\u001b[0;34m\u001b[0m\u001b[0m\n",
            "\u001b[0;32m/usr/local/lib/python3.10/dist-packages/keras/src/engine/data_adapter.py\u001b[0m in \u001b[0;36m__init__\u001b[0;34m(self, x, y, sample_weight, batch_size, steps_per_epoch, initial_epoch, epochs, shuffle, class_weight, max_queue_size, workers, use_multiprocessing, model, steps_per_execution, distribute, pss_evaluation_shards)\u001b[0m\n\u001b[1;32m   1273\u001b[0m \u001b[0;34m\u001b[0m\u001b[0m\n\u001b[1;32m   1274\u001b[0m         \u001b[0;32mif\u001b[0m \u001b[0msteps_per_epoch\u001b[0m \u001b[0;34m==\u001b[0m \u001b[0;36m0\u001b[0m\u001b[0;34m:\u001b[0m\u001b[0;34m\u001b[0m\u001b[0;34m\u001b[0m\u001b[0m\n\u001b[0;32m-> 1275\u001b[0;31m             raise ValueError(\n\u001b[0m\u001b[1;32m   1276\u001b[0m                 \u001b[0;34m\"Unexpected value for `steps_per_epoch`. Received value is 0. \"\u001b[0m\u001b[0;34m\u001b[0m\u001b[0;34m\u001b[0m\u001b[0m\n\u001b[1;32m   1277\u001b[0m                 \u001b[0;34m\"Please check the docstring for `model.fit()` for supported \"\u001b[0m\u001b[0;34m\u001b[0m\u001b[0;34m\u001b[0m\u001b[0m\n",
            "\u001b[0;31mValueError\u001b[0m: Unexpected value for `steps_per_epoch`. Received value is 0. Please check the docstring for `model.fit()` for supported values."
          ]
        }
      ]
    },
    {
      "cell_type": "code",
      "source": [
        "import gc\n",
        "gc.collect()"
      ],
      "metadata": {
        "execution": {
          "iopub.status.busy": "2023-01-16T20:46:41.026426Z",
          "iopub.execute_input": "2023-01-16T20:46:41.026798Z",
          "iopub.status.idle": "2023-01-16T20:46:41.196641Z",
          "shell.execute_reply.started": "2023-01-16T20:46:41.026764Z",
          "shell.execute_reply": "2023-01-16T20:46:41.195502Z"
        },
        "trusted": true,
        "id": "Ue16IXpaWAWB"
      },
      "execution_count": null,
      "outputs": []
    },
    {
      "cell_type": "code",
      "source": [
        "##visualize the images\n",
        "plt.plot(history.history['loss'])\n",
        "plt.plot(history.history['val_loss'])\n",
        "plt.title('model loss')\n",
        "plt.ylabel('loss')\n",
        "plt.xlabel('epoch')\n",
        "plt.legend(['train', 'validation'], loc='upper left')\n",
        "plt.show()"
      ],
      "metadata": {
        "execution": {
          "iopub.status.busy": "2023-01-16T20:46:49.966190Z",
          "iopub.execute_input": "2023-01-16T20:46:49.966578Z",
          "iopub.status.idle": "2023-01-16T20:46:50.171970Z",
          "shell.execute_reply.started": "2023-01-16T20:46:49.966546Z",
          "shell.execute_reply": "2023-01-16T20:46:50.171036Z"
        },
        "trusted": true,
        "id": "Z3r51gJZWAWB"
      },
      "execution_count": null,
      "outputs": []
    },
    {
      "cell_type": "code",
      "source": [
        "# Test data: divide the submission dataframe into two splits as the image names after 40669 is different\n",
        "test_df = submission_df.iloc[:40669]['image_name'].reset_index().drop('index', axis =1)"
      ],
      "metadata": {
        "execution": {
          "iopub.status.busy": "2023-01-16T20:47:01.497088Z",
          "iopub.execute_input": "2023-01-16T20:47:01.497779Z",
          "iopub.status.idle": "2023-01-16T20:47:01.508622Z",
          "shell.execute_reply.started": "2023-01-16T20:47:01.497744Z",
          "shell.execute_reply": "2023-01-16T20:47:01.507534Z"
        },
        "trusted": true,
        "id": "skNKrXC1WAWC"
      },
      "execution_count": null,
      "outputs": []
    },
    {
      "cell_type": "code",
      "source": [
        "test_df['image_name'] = submission_df['image_name'].apply(lambda x: '{}.jpg'.format(x))\n",
        "test_df.head()"
      ],
      "metadata": {
        "execution": {
          "iopub.status.busy": "2023-01-16T20:47:04.865700Z",
          "iopub.execute_input": "2023-01-16T20:47:04.866065Z",
          "iopub.status.idle": "2023-01-16T20:47:04.906651Z",
          "shell.execute_reply.started": "2023-01-16T20:47:04.866033Z",
          "shell.execute_reply": "2023-01-16T20:47:04.905582Z"
        },
        "trusted": true,
        "id": "xFU93Gv-WAWD"
      },
      "execution_count": null,
      "outputs": []
    },
    {
      "cell_type": "code",
      "source": [
        "test_datagen = ImageDataGenerator(rescale = 1./255)\n",
        "\n",
        "test_gen = test_datagen.flow_from_dataframe(dataframe=test_df,\n",
        "                                            directory = test_path,\n",
        "                                            x_col=\"image_name\",\n",
        "                                            y_col=None,\n",
        "                                            batch_size=67,\n",
        "                                            shuffle=False,\n",
        "                                            class_mode=None,\n",
        "                                            target_size=(128,128))\n",
        "\n",
        "test_size = test_gen.n // test_gen.batch_size"
      ],
      "metadata": {
        "execution": {
          "iopub.status.busy": "2023-01-16T20:47:14.855611Z",
          "iopub.execute_input": "2023-01-16T20:47:14.855966Z",
          "iopub.status.idle": "2023-01-16T20:47:58.214881Z",
          "shell.execute_reply.started": "2023-01-16T20:47:14.855934Z",
          "shell.execute_reply": "2023-01-16T20:47:58.213803Z"
        },
        "trusted": true,
        "id": "pZYZeck_WAWE"
      },
      "execution_count": null,
      "outputs": []
    },
    {
      "cell_type": "code",
      "source": [
        "pred = model.predict(test_gen, steps=test_size, verbose=1)"
      ],
      "metadata": {
        "execution": {
          "iopub.status.busy": "2023-01-16T20:48:19.010737Z",
          "iopub.execute_input": "2023-01-16T20:48:19.011103Z",
          "iopub.status.idle": "2023-01-16T20:52:41.489008Z",
          "shell.execute_reply.started": "2023-01-16T20:48:19.011071Z",
          "shell.execute_reply": "2023-01-16T20:52:41.487990Z"
        },
        "trusted": true,
        "id": "Ae9KvpNKWAWF"
      },
      "execution_count": null,
      "outputs": []
    },
    {
      "cell_type": "code",
      "source": [
        "test_names = test_gen.filenames\n",
        "\n",
        "test_result = pd.DataFrame(pred)\n",
        "test_result = test_result.apply(lambda x: ' '.join(np.array(label_list)[x >= 0.2]), axis=1)\n",
        "\n",
        "test_result_df = pd.DataFrame({'image_name': test_names, 'tags': test_result})\n",
        "test_result_df.head()"
      ],
      "metadata": {
        "execution": {
          "iopub.status.busy": "2023-01-16T20:52:41.491045Z",
          "iopub.execute_input": "2023-01-16T20:52:41.491371Z",
          "iopub.status.idle": "2023-01-16T20:52:50.066891Z",
          "shell.execute_reply.started": "2023-01-16T20:52:41.491344Z",
          "shell.execute_reply": "2023-01-16T20:52:50.065913Z"
        },
        "trusted": true,
        "id": "_YURnopiWAWG"
      },
      "execution_count": null,
      "outputs": []
    },
    {
      "cell_type": "code",
      "source": [
        "# additional batch of the test dataset\n",
        "additional_df = submission_df.iloc[40669:]['image_name'].reset_index().drop('index', axis=1)"
      ],
      "metadata": {
        "execution": {
          "iopub.status.busy": "2023-01-16T20:53:11.555636Z",
          "iopub.execute_input": "2023-01-16T20:53:11.555999Z",
          "iopub.status.idle": "2023-01-16T20:53:11.564754Z",
          "shell.execute_reply.started": "2023-01-16T20:53:11.555967Z",
          "shell.execute_reply": "2023-01-16T20:53:11.563583Z"
        },
        "trusted": true,
        "id": "4_lIoNJsWAWG"
      },
      "execution_count": null,
      "outputs": []
    },
    {
      "cell_type": "code",
      "source": [
        "additional_df['image_name'] = additional_df['image_name'].apply(lambda x: '{}.jpg'.format(x))\n",
        "additional_df.head()"
      ],
      "metadata": {
        "execution": {
          "iopub.status.busy": "2023-01-16T20:53:14.040621Z",
          "iopub.execute_input": "2023-01-16T20:53:14.040994Z",
          "iopub.status.idle": "2023-01-16T20:53:14.061017Z",
          "shell.execute_reply.started": "2023-01-16T20:53:14.040962Z",
          "shell.execute_reply": "2023-01-16T20:53:14.059893Z"
        },
        "trusted": true,
        "id": "_pGMrCGTWAWH"
      },
      "execution_count": null,
      "outputs": []
    },
    {
      "cell_type": "code",
      "source": [
        "additional_gen = test_datagen.flow_from_dataframe(dataframe=additional_df,\n",
        "                                                  directory=\"../input/planets-dataset/test-jpg-additional/test-jpg-additional\",\n",
        "                                                  x_col='image_name',\n",
        "                                                  y_col = None,\n",
        "                                                  batch_size=62,\n",
        "                                                  shuffle=False,\n",
        "                                                  class_mode=None,\n",
        "                                                  target_size=(128, 128))\n",
        "\n",
        "\n",
        "additional_step = additional_gen.n // additional_gen.batch_size"
      ],
      "metadata": {
        "execution": {
          "iopub.status.busy": "2023-01-16T20:53:18.256039Z",
          "iopub.execute_input": "2023-01-16T20:53:18.256737Z",
          "iopub.status.idle": "2023-01-16T20:53:59.107193Z",
          "shell.execute_reply.started": "2023-01-16T20:53:18.256702Z",
          "shell.execute_reply": "2023-01-16T20:53:59.106152Z"
        },
        "trusted": true,
        "id": "0nQ9_Ll-WAWI"
      },
      "execution_count": null,
      "outputs": []
    },
    {
      "cell_type": "code",
      "source": [
        "# predicted probabilities for each class\n",
        "pred_additional = model.predict(additional_gen, steps=additional_step, verbose=1)"
      ],
      "metadata": {
        "execution": {
          "iopub.status.busy": "2023-01-16T20:54:06.915842Z",
          "iopub.execute_input": "2023-01-16T20:54:06.916227Z",
          "iopub.status.idle": "2023-01-16T20:56:20.532771Z",
          "shell.execute_reply.started": "2023-01-16T20:54:06.916195Z",
          "shell.execute_reply": "2023-01-16T20:56:20.531681Z"
        },
        "trusted": true,
        "id": "EiDkNCqmWAWJ"
      },
      "execution_count": null,
      "outputs": []
    },
    {
      "cell_type": "code",
      "source": [
        "additional_names = additional_gen.filenames\n",
        "\n",
        "additional_result = pd.DataFrame(pred_additional)\n",
        "additional_result = additional_result.apply(lambda x: ' '.join(np.array(label_list)[x >= 0.2]), axis=1)\n",
        "\n",
        "additional_result_df = pd.DataFrame({'image_name': additional_names, 'tags': additional_result})\n",
        "additional_result_df.head()"
      ],
      "metadata": {
        "execution": {
          "iopub.status.busy": "2023-01-16T20:56:35.095106Z",
          "iopub.execute_input": "2023-01-16T20:56:35.095799Z",
          "iopub.status.idle": "2023-01-16T20:56:39.868258Z",
          "shell.execute_reply.started": "2023-01-16T20:56:35.095764Z",
          "shell.execute_reply": "2023-01-16T20:56:39.867334Z"
        },
        "trusted": true,
        "id": "py5TVQB8WAWK"
      },
      "execution_count": null,
      "outputs": []
    },
    {
      "cell_type": "code",
      "source": [
        "final_result = pd.concat([test_result_df, additional_result_df])\n",
        "\n",
        "final_result = final_result.reset_index().drop('index', axis =1)\n",
        "\n",
        "final_result"
      ],
      "metadata": {
        "execution": {
          "iopub.status.busy": "2023-01-16T20:56:52.954242Z",
          "iopub.execute_input": "2023-01-16T20:56:52.954655Z",
          "iopub.status.idle": "2023-01-16T20:56:52.978218Z",
          "shell.execute_reply.started": "2023-01-16T20:56:52.954624Z",
          "shell.execute_reply": "2023-01-16T20:56:52.977270Z"
        },
        "trusted": true,
        "id": "TThGi_grWAWN"
      },
      "execution_count": null,
      "outputs": []
    },
    {
      "cell_type": "code",
      "source": [
        "# Remove the .jpg extension from the image_name of the final_result\n",
        "final_result['image_name'] = final_result['image_name'].apply(lambda x: x[:-4])\n",
        "final_result"
      ],
      "metadata": {
        "execution": {
          "iopub.status.busy": "2023-01-16T20:57:01.385458Z",
          "iopub.execute_input": "2023-01-16T20:57:01.386088Z",
          "iopub.status.idle": "2023-01-16T20:57:01.420354Z",
          "shell.execute_reply.started": "2023-01-16T20:57:01.386054Z",
          "shell.execute_reply": "2023-01-16T20:57:01.419405Z"
        },
        "trusted": true,
        "id": "VCafePwLWAWT"
      },
      "execution_count": null,
      "outputs": []
    },
    {
      "cell_type": "code",
      "source": [
        "# save the results to a CSV file save and set the index to false.\n",
        "final_result.to_csv('submission.csv', index=False)"
      ],
      "metadata": {
        "execution": {
          "iopub.status.busy": "2023-01-16T20:57:11.578439Z",
          "iopub.execute_input": "2023-01-16T20:57:11.578796Z",
          "iopub.status.idle": "2023-01-16T20:57:11.669846Z",
          "shell.execute_reply.started": "2023-01-16T20:57:11.578767Z",
          "shell.execute_reply": "2023-01-16T20:57:11.668842Z"
        },
        "trusted": true,
        "id": "qvD2FaBsWAWU"
      },
      "execution_count": null,
      "outputs": []
    },
    {
      "cell_type": "code",
      "source": [],
      "metadata": {
        "id": "bpzv1eaeWAWV"
      },
      "execution_count": null,
      "outputs": []
    }
  ]
}